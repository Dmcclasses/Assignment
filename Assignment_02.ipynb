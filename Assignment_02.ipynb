{
  "nbformat": 4,
  "nbformat_minor": 0,
  "metadata": {
    "colab": {
      "provenance": []
    },
    "kernelspec": {
      "name": "python3",
      "display_name": "Python 3"
    },
    "language_info": {
      "name": "python"
    }
  },
  "cells": [
    {
      "cell_type": "markdown",
      "source": [
        "Q.1 What are data structures, and why are they important?\n",
        "\n",
        "Ans.Data structures are ways of organizing and storing data to perform operations efficiently. They are important because they enable efficient data management and allow algorithms to run faster.\n",
        "\n",
        "Q.2 Explain the difference between mutable and immutable data types with examples?\n",
        "\n",
        "Ans. Mutable data types can be changed after creation, like lists ([1, 2, 3]). Immutable data types cannot be changed, like tuples ((1, 2, 3))\n",
        "\n",
        "Q.3 What are the main differences between lists and tuples in Python?\n",
        "\n",
        "Ans. Lists are mutable and can be modified, whereas tuples are immutable and cannot be changed. Lists are defined with square brackets [ ], while tuples use parentheses ( )\n",
        "\n",
        "Q.4 Describe how dictionaries store data?\n",
        "\n",
        "Ans.Dictionaries store data as key-value pairs, where each key is unique, and the value is accessed using its corresponding key.\n",
        "\n",
        "Q.5 Why might you use a set instead of a list in Python?\n",
        "\n",
        "Ans. Sets are used when you need unique elements and do not care about the order. They automatically remove duplicates.\n",
        "\n",
        "Q.6 What is a string in Python, and how is it different from a list?\n",
        "\n",
        "Ans: A string is a sequence of characters, whereas a list is a collection of elements that can be of different data types. Strings are immutable, but lists are mutable.\n",
        "\n",
        "Q.7 How do tuples ensure data integrity in Python?\n",
        "\n",
        "Ans: Tuples are immutable, meaning their values cannot be changed, which ensures that data remains consistent and protected from accidental modification.\n",
        "\n",
        "Q.8 What is a hash table, and how does it relate to dictionaries in Python?\n",
        "\n",
        "Ans: A hash table is a data structure that maps keys to values using a hash function. Python dictionaries use hash tables internally to store key-value pairs efficiently.\n",
        "\n",
        "Q.9 Can lists contain different data types in Python?\n",
        "\n",
        "Ans: Yes, a list can contain elements of different data types, such as integers, strings, and other lists.\n",
        "\n",
        "Q.10 Explain why strings are immutable in Python.\n",
        "\n",
        "Ans: Strings are immutable to ensure consistency, security, and better performance when handling multiple references to the same string object.\n",
        "\n",
        "Q.11 What advantages do dictionaries offer over lists for certain tasks?\n",
        "\n",
        "Ans: Dictionaries provide fast access to values using unique keys, making them efficient for lookups compared to lists.\n",
        "\n",
        "Q.12 Describe a scenario where using a tuple would be preferable over a list.\n",
        "\n",
        "Ans: Tuples are preferable when you want to store fixed data that should not be modified, like coordinates or configurations.\n",
        "\n",
        "Q.13 How do sets handle duplicate values in Python?\n",
        "\n",
        "Ans: Sets automatically remove duplicate values and only store unique elements.\n",
        "\n",
        "Q.14 How does the “in” keyword work differently for lists and dictionaries?\n",
        "\n",
        "Ans: In lists, the in keyword checks for the presence of a value, while in dictionaries, it checks for the presence of a key.\n",
        "\n",
        "Q.15 Can you modify the elements of a tuple? Explain why or why not.\n",
        "\n",
        "Ans: No, you cannot modify the elements of a tuple because tuples are immutable.\n",
        "\n",
        "Q.16 What is a nested dictionary, and give an example of its use case?\n",
        "\n",
        "Ans: A nested dictionary is a dictionary within another dictionary. Example: {'person': {'name': 'Alice', 'age': 25}}. It can be used to store hierarchical data like user profiles.\n",
        "\n",
        "Q.17 Describe the time complexity of accessing elements in a dictionary.\n",
        "\n",
        "Ans: Accessing elements in a dictionary has an average time complexity of O(1) due to its hash table implementation.\n",
        "\n",
        "Q.18 In what situations are lists preferred over dictionaries?\n",
        "\n",
        "Ans: Lists are preferred when the order of elements matters, or when you need to store duplicate values.\n",
        "\n",
        "Q.19 Why are dictionaries considered unordered, and how does that affect data retrieval?\n",
        "\n",
        "Ans: Dictionaries are unordered because they store elements based on hash values, not their insertion order. This means you cannot access elements by position.\n",
        "\n",
        "Q.20 Explain the difference between a list and a dictionary in terms of data retrieval.\n",
        "\n",
        "Ans: In a list, elements are retrieved using their index, while in a dictionary, values are retrieved using unique keys."
      ],
      "metadata": {
        "id": "FYyUAa4YqDVv"
      }
    },
    {
      "cell_type": "code",
      "source": [
        "# Practical Questions:-"
      ],
      "metadata": {
        "id": "23CdmwXOtVBu"
      },
      "execution_count": 1,
      "outputs": []
    },
    {
      "cell_type": "markdown",
      "source": [
        "Q.1  Write a code to create a string with your name and print it."
      ],
      "metadata": {
        "id": "eIurmhIF25Ei"
      }
    },
    {
      "cell_type": "code",
      "source": [
        "name = \"Mohit\"\n",
        "print(name)"
      ],
      "metadata": {
        "colab": {
          "base_uri": "https://localhost:8080/"
        },
        "id": "-sgbToHj3E4C",
        "outputId": "d8a52edc-38ba-4085-93e9-b20fa54de494"
      },
      "execution_count": 3,
      "outputs": [
        {
          "output_type": "stream",
          "name": "stdout",
          "text": [
            "Mohit\n"
          ]
        }
      ]
    },
    {
      "cell_type": "markdown",
      "source": [
        "\n",
        "Q.2 Write a code to find the length of the string \"Hello World\"\n"
      ],
      "metadata": {
        "id": "bC47vWW53f9z"
      }
    },
    {
      "cell_type": "code",
      "source": [
        "string = \"Hello World\"\n",
        "print(len(string))"
      ],
      "metadata": {
        "colab": {
          "base_uri": "https://localhost:8080/"
        },
        "id": "cAAidLju3oYV",
        "outputId": "edab1298-a42b-433d-d5f0-0506ff462590"
      },
      "execution_count": 4,
      "outputs": [
        {
          "output_type": "stream",
          "name": "stdout",
          "text": [
            "11\n"
          ]
        }
      ]
    },
    {
      "cell_type": "markdown",
      "source": [
        "Q.3 Write a code to slice the first 3 characters from the string \"Python Programming\""
      ],
      "metadata": {
        "id": "DVv7rBJE36BP"
      }
    },
    {
      "cell_type": "code",
      "source": [
        "string = \"Python Programming\"\n",
        "print(string [:3])"
      ],
      "metadata": {
        "colab": {
          "base_uri": "https://localhost:8080/"
        },
        "id": "zv4G7pEC4CkS",
        "outputId": "53b586ca-11ee-4058-b689-4c2404737c9b"
      },
      "execution_count": 7,
      "outputs": [
        {
          "output_type": "stream",
          "name": "stdout",
          "text": [
            "Pyt\n"
          ]
        }
      ]
    },
    {
      "cell_type": "markdown",
      "source": [
        "Q.4 Write a code to convert the string \"hello\" to uppercase."
      ],
      "metadata": {
        "id": "040LrFm94kMz"
      }
    },
    {
      "cell_type": "code",
      "source": [
        "string = \"hello\"\n",
        "print(string.upper())"
      ],
      "metadata": {
        "colab": {
          "base_uri": "https://localhost:8080/"
        },
        "id": "MuLbBd814VOM",
        "outputId": "e09025dc-17f0-4ea8-adba-e9fed0fbbce3"
      },
      "execution_count": 8,
      "outputs": [
        {
          "output_type": "stream",
          "name": "stdout",
          "text": [
            "HELLO\n"
          ]
        }
      ]
    },
    {
      "cell_type": "markdown",
      "source": [
        "Q.5  Write a code to replace the word \"apple\" with \"orange\" in the string \"I like apple\""
      ],
      "metadata": {
        "id": "Pyzai0W64xjQ"
      }
    },
    {
      "cell_type": "code",
      "source": [
        "string = \"I like apple\"\n",
        "print(string.replace(\"apple\", \"orange\"))"
      ],
      "metadata": {
        "colab": {
          "base_uri": "https://localhost:8080/"
        },
        "id": "TLrdpyIF4v7Z",
        "outputId": "f7181a8e-1e13-453d-dd23-cf16c69f6504"
      },
      "execution_count": 9,
      "outputs": [
        {
          "output_type": "stream",
          "name": "stdout",
          "text": [
            "I like orange\n"
          ]
        }
      ]
    },
    {
      "cell_type": "markdown",
      "source": [
        "Q.6 Write a code to create a list with numbers 1 to 5 and print it"
      ],
      "metadata": {
        "id": "nnsYe7D35Mz-"
      }
    },
    {
      "cell_type": "code",
      "source": [
        "numbers = [1, 2, 3, 4, 5]\n",
        "print (numbers)"
      ],
      "metadata": {
        "colab": {
          "base_uri": "https://localhost:8080/"
        },
        "id": "RsDqIsaf5KzH",
        "outputId": "323881b9-7a70-4068-8452-3b7508cd4999"
      },
      "execution_count": 10,
      "outputs": [
        {
          "output_type": "stream",
          "name": "stdout",
          "text": [
            "[1, 2, 3, 4, 5]\n"
          ]
        }
      ]
    },
    {
      "cell_type": "markdown",
      "source": [
        "Q.7 Write a code to append the number 10 to the list [1, 2, 3, 4]"
      ],
      "metadata": {
        "id": "sKIUIPTD5pl2"
      }
    },
    {
      "cell_type": "code",
      "source": [
        "list = [1, 2, 3, 4]\n",
        "list.append(10)\n",
        "print(list)"
      ],
      "metadata": {
        "colab": {
          "base_uri": "https://localhost:8080/"
        },
        "id": "Ywbwy6ru5nkG",
        "outputId": "9aa83db2-c7cf-440e-cd1d-c0cef7558cf1"
      },
      "execution_count": 12,
      "outputs": [
        {
          "output_type": "stream",
          "name": "stdout",
          "text": [
            "[1, 2, 3, 4, 10]\n"
          ]
        }
      ]
    },
    {
      "cell_type": "markdown",
      "source": [
        "Q.8 Write a code to remove the number 3 from the list [1, 2, 3, 4, 5]"
      ],
      "metadata": {
        "id": "kH931MNT7CHb"
      }
    },
    {
      "cell_type": "code",
      "source": [
        "number = [1, 2, 3, 4, 5]\n",
        "number.remove(3)\n",
        "print(number)"
      ],
      "metadata": {
        "colab": {
          "base_uri": "https://localhost:8080/"
        },
        "id": "XGUj5QD85-L0",
        "outputId": "ab0dd8eb-c6ae-4baf-cf86-5e6586bf63c5"
      },
      "execution_count": 17,
      "outputs": [
        {
          "output_type": "stream",
          "name": "stdout",
          "text": [
            "[1, 2, 4, 5]\n"
          ]
        }
      ]
    },
    {
      "cell_type": "markdown",
      "source": [
        "Q.9 Write a code to access the second element in the list ['a', 'b', 'c', 'd']"
      ],
      "metadata": {
        "id": "ovKgxcGQ8NtT"
      }
    },
    {
      "cell_type": "code",
      "source": [
        "list = ['a', 'b', 'c', 'd']\n",
        "print(list[1])"
      ],
      "metadata": {
        "colab": {
          "base_uri": "https://localhost:8080/"
        },
        "id": "14lD-ryO724A",
        "outputId": "0f9d6459-d7e4-465e-b9cc-c3c6f093180d"
      },
      "execution_count": 19,
      "outputs": [
        {
          "output_type": "stream",
          "name": "stdout",
          "text": [
            "b\n"
          ]
        }
      ]
    },
    {
      "cell_type": "markdown",
      "source": [
        "Q10. Write a code to reverse the list [10, 20, 30, 40, 50]"
      ],
      "metadata": {
        "id": "3FWfbvoD9Orj"
      }
    },
    {
      "cell_type": "code",
      "source": [
        "list = [10, 20, 30, 40, 50]\n",
        "list.reverse()\n",
        "print (list)"
      ],
      "metadata": {
        "colab": {
          "base_uri": "https://localhost:8080/"
        },
        "id": "k63OQwdb9RNx",
        "outputId": "8e4335f7-c4f3-43e6-c940-5d680bf037c5"
      },
      "execution_count": 20,
      "outputs": [
        {
          "output_type": "stream",
          "name": "stdout",
          "text": [
            "[50, 40, 30, 20, 10]\n"
          ]
        }
      ]
    },
    {
      "cell_type": "markdown",
      "source": [
        "Q11. Write a code to create a tuple with the elements 100, 200, 300 and print it."
      ],
      "metadata": {
        "id": "EKocoIoS9nyt"
      }
    },
    {
      "cell_type": "code",
      "source": [
        "tpl = (100, 200, 300)\n",
        "print(tpl)\n",
        "type(tpl)"
      ],
      "metadata": {
        "colab": {
          "base_uri": "https://localhost:8080/"
        },
        "id": "t1FfKSZI9lng",
        "outputId": "88e5ffb2-4b61-450b-fbfd-1f2be2413d2c"
      },
      "execution_count": 22,
      "outputs": [
        {
          "output_type": "stream",
          "name": "stdout",
          "text": [
            "(100, 200, 300)\n"
          ]
        },
        {
          "output_type": "execute_result",
          "data": {
            "text/plain": [
              "tuple"
            ]
          },
          "metadata": {},
          "execution_count": 22
        }
      ]
    },
    {
      "cell_type": "markdown",
      "source": [
        "Q12.  Write a code to access the second-to-last element of the tuple ('red', 'green', 'blue', 'yellow')"
      ],
      "metadata": {
        "id": "RmHe3TmF-K3s"
      }
    },
    {
      "cell_type": "code",
      "source": [
        "color = ('red', 'green', 'blue', 'yellow')\n",
        "print(color[-2])"
      ],
      "metadata": {
        "colab": {
          "base_uri": "https://localhost:8080/"
        },
        "id": "HZs9dmDK-AC-",
        "outputId": "03ce8975-1143-417b-d894-bb275170c23b"
      },
      "execution_count": 23,
      "outputs": [
        {
          "output_type": "stream",
          "name": "stdout",
          "text": [
            "blue\n"
          ]
        }
      ]
    },
    {
      "cell_type": "markdown",
      "source": [
        "Q13. Write a code to find the minimum number in the tuple (10, 20, 5, 15)"
      ],
      "metadata": {
        "id": "bJkuo2i5-tNC"
      }
    },
    {
      "cell_type": "code",
      "source": [
        "number = (10, 20, 5, 15)\n",
        "print(min(number))"
      ],
      "metadata": {
        "colab": {
          "base_uri": "https://localhost:8080/"
        },
        "id": "lgDs_po1-r5f",
        "outputId": "af998cb5-53cb-49f7-9ce2-a324dbdca663"
      },
      "execution_count": 26,
      "outputs": [
        {
          "output_type": "stream",
          "name": "stdout",
          "text": [
            "5\n"
          ]
        }
      ]
    },
    {
      "cell_type": "markdown",
      "source": [
        "Q14. Write a code to find the index of the element \"cat\" in the tuple ('dog', 'cat', 'rabbit')"
      ],
      "metadata": {
        "id": "FOAwoze-_Up0"
      }
    },
    {
      "cell_type": "code",
      "source": [
        "animals = ('dog', 'cat', 'rabbit')\n",
        "print(animals.index(\"cat\"))"
      ],
      "metadata": {
        "colab": {
          "base_uri": "https://localhost:8080/"
        },
        "id": "_av1GOGK_QEP",
        "outputId": "ee1cec8b-cadb-4123-a216-07f66ec96659"
      },
      "execution_count": 29,
      "outputs": [
        {
          "output_type": "stream",
          "name": "stdout",
          "text": [
            "1\n"
          ]
        }
      ]
    },
    {
      "cell_type": "markdown",
      "source": [
        "Q15. Write a code to create a tuple containing three different fruits and check if \"kiwi\" is in it."
      ],
      "metadata": {
        "id": "i8MOiIkP__EA"
      }
    },
    {
      "cell_type": "code",
      "source": [
        "fruits = ('apple', 'banana', 'grapes')\n",
        "print(\"kiwi\" in fruits)"
      ],
      "metadata": {
        "colab": {
          "base_uri": "https://localhost:8080/"
        },
        "id": "i62y2e3m_xil",
        "outputId": "9ea870a3-4d78-47ad-d59e-90b6525c6ce7"
      },
      "execution_count": 30,
      "outputs": [
        {
          "output_type": "stream",
          "name": "stdout",
          "text": [
            "False\n"
          ]
        }
      ]
    },
    {
      "cell_type": "markdown",
      "source": [
        "Q.16 Write a code to create a set with the elements 'a', 'b', 'c' and print it"
      ],
      "metadata": {
        "id": "TklbJxBWAYZB"
      }
    },
    {
      "cell_type": "code",
      "source": [
        "my_set = {'a', 'b', 'c'}\n",
        "print(my_set)"
      ],
      "metadata": {
        "colab": {
          "base_uri": "https://localhost:8080/"
        },
        "id": "FoonPvzbAUtw",
        "outputId": "f1e25137-7c14-4093-d7cc-ac12497bb1bd"
      },
      "execution_count": 64,
      "outputs": [
        {
          "output_type": "stream",
          "name": "stdout",
          "text": [
            "{'a', 'c', 'b'}\n"
          ]
        }
      ]
    },
    {
      "cell_type": "markdown",
      "source": [
        "Q.17 Write a code to clear all elements from the set {1, 2, 3, 4, 5}."
      ],
      "metadata": {
        "id": "pa8Oh-yyAw9o"
      }
    },
    {
      "cell_type": "code",
      "source": [
        "number = {1, 2, 3, 4, 5}\n",
        "number.clear()\n",
        "print(number)"
      ],
      "metadata": {
        "colab": {
          "base_uri": "https://localhost:8080/"
        },
        "id": "dnjdS6aDAvgc",
        "outputId": "478e3041-4660-4ce5-9f58-c761889dd616"
      },
      "execution_count": 33,
      "outputs": [
        {
          "output_type": "stream",
          "name": "stdout",
          "text": [
            "set()\n"
          ]
        }
      ]
    },
    {
      "cell_type": "markdown",
      "source": [
        "Q.18  Write a code to remove the element 4 from the set {1, 2, 3, 4}"
      ],
      "metadata": {
        "id": "rQgfOE2NBD8x"
      }
    },
    {
      "cell_type": "code",
      "source": [
        "number = {1, 2, 3, 4}\n",
        "number.remove(4)\n",
        "print(number)"
      ],
      "metadata": {
        "colab": {
          "base_uri": "https://localhost:8080/"
        },
        "id": "gw3nP6xGBCpG",
        "outputId": "a2d3fe51-9e04-4a28-ec19-9beb71d26ce3"
      },
      "execution_count": 34,
      "outputs": [
        {
          "output_type": "stream",
          "name": "stdout",
          "text": [
            "{1, 2, 3}\n"
          ]
        }
      ]
    },
    {
      "cell_type": "markdown",
      "source": [
        "Q.19 Write a code to find the union of two sets {1, 2, 3} and {3, 4, 5}."
      ],
      "metadata": {
        "id": "A7qaC7b7BOfo"
      }
    },
    {
      "cell_type": "code",
      "source": [
        "set1 = {1, 2, 3}\n",
        "set2 = {3, 4, 5}\n",
        "print(set1.union(set2))"
      ],
      "metadata": {
        "colab": {
          "base_uri": "https://localhost:8080/"
        },
        "id": "MOu38NGGBNdC",
        "outputId": "fd9ee276-5237-4dc6-d33b-891dd1abb3b8"
      },
      "execution_count": 39,
      "outputs": [
        {
          "output_type": "stream",
          "name": "stdout",
          "text": [
            "{1, 2, 3, 4, 5}\n"
          ]
        }
      ]
    },
    {
      "cell_type": "markdown",
      "source": [
        "Q.20  Write a code to find the intersection of two sets {1, 2, 3} and {2, 3, 4}."
      ],
      "metadata": {
        "id": "MmArA8v1Bxh9"
      }
    },
    {
      "cell_type": "code",
      "source": [
        "set1 = {1, 2, 3}\n",
        "set2 = {2, 3, 4}\n",
        "print(set1.intersection(set2))"
      ],
      "metadata": {
        "colab": {
          "base_uri": "https://localhost:8080/"
        },
        "id": "cD7yE8_RBYlX",
        "outputId": "eb558f62-b6e5-4006-84d9-d4847a5169f5"
      },
      "execution_count": 40,
      "outputs": [
        {
          "output_type": "stream",
          "name": "stdout",
          "text": [
            "{2, 3}\n"
          ]
        }
      ]
    },
    {
      "cell_type": "markdown",
      "source": [
        "Q21. Write a code to create a dictionary with the keys \"name\", \"age\", and \"city\", and print it"
      ],
      "metadata": {
        "id": "NdfG-wnNB8u5"
      }
    },
    {
      "cell_type": "code",
      "source": [
        "dictionary = {\"name\": \"Mohit\", \"age\": 20, \"city\": \"Lohaghat\"}\n",
        "print(dictionary)"
      ],
      "metadata": {
        "colab": {
          "base_uri": "https://localhost:8080/"
        },
        "id": "Ja0e9ROqCew9",
        "outputId": "357834ac-3b01-4c9e-9a7e-bfcb22b32e61"
      },
      "execution_count": 42,
      "outputs": [
        {
          "output_type": "stream",
          "name": "stdout",
          "text": [
            "{'name': 'Mohit', 'age': 20, 'city': 'Lohaghat'}\n"
          ]
        }
      ]
    },
    {
      "cell_type": "markdown",
      "source": [
        "Q22. . Write a code to add a new key-value pair \"country\": \"USA\" to the dictionary {'name': 'John', 'age': 25}"
      ],
      "metadata": {
        "id": "gafmItiZDEss"
      }
    },
    {
      "cell_type": "code",
      "source": [
        "dictionary = {'name': 'John', 'age': 25}\n",
        "dictionary[\"country\"] = \"USA\"\n",
        "print(dictionary)"
      ],
      "metadata": {
        "colab": {
          "base_uri": "https://localhost:8080/"
        },
        "id": "OxbAzk0-DB6A",
        "outputId": "3c230286-faea-47a2-bea5-6a4c9db513db"
      },
      "execution_count": 43,
      "outputs": [
        {
          "output_type": "stream",
          "name": "stdout",
          "text": [
            "{'name': 'John', 'age': 25, 'country': 'USA'}\n"
          ]
        }
      ]
    },
    {
      "cell_type": "markdown",
      "source": [
        "Q.23  Write a code to access the value associated with the key \"name\" in the dictionary {'name': 'Alice', 'age': 30}"
      ],
      "metadata": {
        "id": "BnPwQOs1DflF"
      }
    },
    {
      "cell_type": "code",
      "source": [
        "dictionary = {'name': 'Alice', 'age': 30}\n",
        "print(dictionary[\"name\"])"
      ],
      "metadata": {
        "colab": {
          "base_uri": "https://localhost:8080/"
        },
        "id": "adATO81ADeab",
        "outputId": "08df8acd-3c3d-4d34-a2db-503eb3f9fad3"
      },
      "execution_count": 44,
      "outputs": [
        {
          "output_type": "stream",
          "name": "stdout",
          "text": [
            "Alice\n"
          ]
        }
      ]
    },
    {
      "cell_type": "markdown",
      "source": [
        "Q.24 Write a code to remove the key \"age\" from the dictionary {'name': 'Bob', 'age': 22, 'city': 'New York'}"
      ],
      "metadata": {
        "id": "kDADhAZ-EAAg"
      }
    },
    {
      "cell_type": "code",
      "source": [
        "dictionary = {'name': 'Bob', 'age': 22, 'city': 'New York'}\n",
        "del dictionary[\"age\"]\n",
        "print(dictionary)"
      ],
      "metadata": {
        "colab": {
          "base_uri": "https://localhost:8080/"
        },
        "id": "YC_p3iLSD8HK",
        "outputId": "8fd3c40c-1dad-40e1-a03b-5adf6c8852c4"
      },
      "execution_count": 47,
      "outputs": [
        {
          "output_type": "stream",
          "name": "stdout",
          "text": [
            "{'name': 'Bob', 'city': 'New York'}\n"
          ]
        }
      ]
    },
    {
      "cell_type": "markdown",
      "source": [
        "Q.25  Write a code to check if the key \"city\" exists in the dictionary {'name': 'Alice', 'city': 'Paris'}"
      ],
      "metadata": {
        "id": "yFpd344dEXeh"
      }
    },
    {
      "cell_type": "code",
      "source": [
        "dictionary = {'name': 'Alice', 'city': 'Paris'}\n",
        "print(\"city\" in dictionary)"
      ],
      "metadata": {
        "colab": {
          "base_uri": "https://localhost:8080/"
        },
        "id": "uef4UkbVEMM7",
        "outputId": "ed1fd2c7-0124-45b4-dac2-06c9fee376e0"
      },
      "execution_count": 48,
      "outputs": [
        {
          "output_type": "stream",
          "name": "stdout",
          "text": [
            "True\n"
          ]
        }
      ]
    },
    {
      "cell_type": "markdown",
      "source": [
        "Q.26 Write a code to create a list, a tuple, and a dictionary, and print them all"
      ],
      "metadata": {
        "id": "sgSHaedmEite"
      }
    },
    {
      "cell_type": "code",
      "source": [
        "list = [1, 2, 3]\n",
        "print(list)\n",
        "tpl = (1, 2, 3)\n",
        "print(tpl)\n",
        "dictionary = {\"name\": \"Mohit\", \"age\": 20, \"city\": \"Lohaghat\"}\n",
        "print(dictionary)"
      ],
      "metadata": {
        "colab": {
          "base_uri": "https://localhost:8080/"
        },
        "id": "SMrYX70SEhkb",
        "outputId": "cc783093-e162-4dca-b3ae-66499ff31a9f"
      },
      "execution_count": 49,
      "outputs": [
        {
          "output_type": "stream",
          "name": "stdout",
          "text": [
            "[1, 2, 3]\n",
            "(1, 2, 3)\n",
            "{'name': 'Mohit', 'age': 20, 'city': 'Lohaghat'}\n"
          ]
        }
      ]
    },
    {
      "cell_type": "markdown",
      "source": [
        "Q.27 Write a code to create a list of 5 random numbers between 1 and 100, sort it in ascending order, and print the\n",
        "result.(replaced)"
      ],
      "metadata": {
        "id": "zJUiri0IEvUP"
      }
    },
    {
      "cell_type": "code",
      "source": [
        "list = [1, 25, 8, 64, 15]\n",
        "list.sort()\n",
        "print(list)"
      ],
      "metadata": {
        "colab": {
          "base_uri": "https://localhost:8080/"
        },
        "id": "yMuf_l0iEuOO",
        "outputId": "c4e751cc-5226-4fc1-a0a2-4e6c831b5b2e"
      },
      "execution_count": 50,
      "outputs": [
        {
          "output_type": "stream",
          "name": "stdout",
          "text": [
            "[1, 8, 15, 25, 64]\n"
          ]
        }
      ]
    },
    {
      "cell_type": "markdown",
      "source": [
        "Q.28 Write a code to create a list with strings and print the element at the third index"
      ],
      "metadata": {
        "id": "h7zkHCveFIDP"
      }
    },
    {
      "cell_type": "code",
      "source": [
        "list = [\"apple\", \"banana\", \"grapes\", \"orange\"]\n",
        "print(list[2])"
      ],
      "metadata": {
        "colab": {
          "base_uri": "https://localhost:8080/"
        },
        "id": "mIM7CaZUFErX",
        "outputId": "b6fc5e40-b077-4cb3-d544-36f28aeb4694"
      },
      "execution_count": 51,
      "outputs": [
        {
          "output_type": "stream",
          "name": "stdout",
          "text": [
            "grapes\n"
          ]
        }
      ]
    },
    {
      "cell_type": "markdown",
      "source": [
        "Q.29 Write a code to combine two dictionaries into one and print the result."
      ],
      "metadata": {
        "id": "zudpmRA_FUkf"
      }
    },
    {
      "cell_type": "code",
      "source": [
        "dict1 = {'a': 1, 'b': 2}\n",
        "dict2 = {'c': 3, 'd': 4}\n",
        "dict1.update(dict2)\n",
        "print(dict1)"
      ],
      "metadata": {
        "colab": {
          "base_uri": "https://localhost:8080/"
        },
        "id": "fgJzlQObFT03",
        "outputId": "b3df79d0-7174-47f8-a720-a948b684e223"
      },
      "execution_count": 52,
      "outputs": [
        {
          "output_type": "stream",
          "name": "stdout",
          "text": [
            "{'a': 1, 'b': 2, 'c': 3, 'd': 4}\n"
          ]
        }
      ]
    },
    {
      "cell_type": "markdown",
      "source": [
        "Q.30 Write a code to convert a list of strings into a set"
      ],
      "metadata": {
        "id": "PIgFRE2KFeQQ"
      }
    },
    {
      "cell_type": "code",
      "source": [
        "string = [\"apple\", \"banana\", \"grapes\"]\n",
        "new_set = set(string)\n",
        "print(new_set)"
      ],
      "metadata": {
        "colab": {
          "base_uri": "https://localhost:8080/"
        },
        "id": "ejU2T_NpFda5",
        "outputId": "b947c94b-3f8b-4dd3-969f-5150952bec5e"
      },
      "execution_count": 65,
      "outputs": [
        {
          "output_type": "stream",
          "name": "stdout",
          "text": [
            "{'grapes', 'banana', 'apple'}\n"
          ]
        }
      ]
    },
    {
      "cell_type": "code",
      "source": [],
      "metadata": {
        "id": "IzLcuB3mGLDm"
      },
      "execution_count": null,
      "outputs": []
    }
  ]
}